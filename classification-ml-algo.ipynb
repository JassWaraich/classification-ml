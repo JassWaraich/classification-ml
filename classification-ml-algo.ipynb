{
 "cells": [
  {
   "cell_type": "markdown",
   "metadata": {},
   "source": [
    "# Classification\n",
    "This notebook demonstrates some of the algorithms for the binary classification.\n",
    "\n",
    "### Getting Started\n",
    "\n",
    "Let's start by importing the necessary libraries and dataset"
   ]
  },
  {
   "cell_type": "code",
   "execution_count": 1,
   "metadata": {},
   "outputs": [],
   "source": [
    "import pandas as pd\n",
    "import numpy as np\n",
    "import matplotlib.pyplot as plt\n",
    "plt.rc(\"font\", size=15)\n",
    "%matplotlib inline\n",
    "import seaborn as sns\n",
    "sns.set(style=\"white\")\n",
    "sns.set(style=\"whitegrid\",color_codes=True)\n",
    "\n",
    "\n",
    "dataset = pd.read_csv('C:/Users/jassw/Desktop/dataset/diabetes.csv',header=0)"
   ]
  },
  {
   "cell_type": "markdown",
   "metadata": {},
   "source": [
    "### Exploring the dataset\n",
    "\n",
    "Now, we have imported our dataset.Let's explore the dataset to get more insight about the type of data and the size of the dataset.\n",
    "\n"
   ]
  },
  {
   "cell_type": "code",
   "execution_count": 4,
   "metadata": {},
   "outputs": [
    {
     "name": "stdout",
     "output_type": "stream",
     "text": [
      "The shape of the dataset:(15000, 10)\n",
      "<class 'pandas.core.frame.DataFrame'>\n",
      "RangeIndex: 15000 entries, 0 to 14999\n",
      "Data columns (total 10 columns):\n",
      "PatientID                 15000 non-null int64\n",
      "Pregnancies               15000 non-null int64\n",
      "PlasmaGlucose             15000 non-null int64\n",
      "DiastolicBloodPressure    15000 non-null int64\n",
      "TricepsThickness          15000 non-null int64\n",
      "SerumInsulin              15000 non-null int64\n",
      "BMI                       15000 non-null float64\n",
      "DiabetesPedigree          15000 non-null float64\n",
      "Age                       15000 non-null int64\n",
      "Diabetic                  15000 non-null int64\n",
      "dtypes: float64(2), int64(8)\n",
      "memory usage: 1.1 MB\n",
      "None\n"
     ]
    }
   ],
   "source": [
    "print(\"The shape of the dataset:\" + str(dataset.shape))\n",
    "print(dataset.info())"
   ]
  },
  {
   "cell_type": "code",
   "execution_count": 5,
   "metadata": {},
   "outputs": [
    {
     "data": {
      "text/plain": [
       "PatientID                 0\n",
       "Pregnancies               0\n",
       "PlasmaGlucose             0\n",
       "DiastolicBloodPressure    0\n",
       "TricepsThickness          0\n",
       "SerumInsulin              0\n",
       "BMI                       0\n",
       "DiabetesPedigree          0\n",
       "Age                       0\n",
       "Diabetic                  0\n",
       "dtype: int64"
      ]
     },
     "execution_count": 5,
     "metadata": {},
     "output_type": "execute_result"
    }
   ],
   "source": [
    "# Checking if any Null values\n",
    "dataset.isnull().sum()"
   ]
  },
  {
   "cell_type": "code",
   "execution_count": 6,
   "metadata": {},
   "outputs": [
    {
     "name": "stdout",
     "output_type": "stream",
     "text": [
      "['PatientID', 'Pregnancies', 'PlasmaGlucose', 'DiastolicBloodPressure', 'TricepsThickness', 'SerumInsulin', 'BMI', 'DiabetesPedigree', 'Age', 'Diabetic']\n"
     ]
    }
   ],
   "source": [
    "# Fetching the column headers\n",
    "print(list(dataset.columns))"
   ]
  },
  {
   "cell_type": "code",
   "execution_count": 7,
   "metadata": {},
   "outputs": [
    {
     "data": {
      "text/html": [
       "<div>\n",
       "<style>\n",
       "    .dataframe thead tr:only-child th {\n",
       "        text-align: right;\n",
       "    }\n",
       "\n",
       "    .dataframe thead th {\n",
       "        text-align: left;\n",
       "    }\n",
       "\n",
       "    .dataframe tbody tr th {\n",
       "        vertical-align: top;\n",
       "    }\n",
       "</style>\n",
       "<table border=\"1\" class=\"dataframe\">\n",
       "  <thead>\n",
       "    <tr style=\"text-align: right;\">\n",
       "      <th></th>\n",
       "      <th>PatientID</th>\n",
       "      <th>Pregnancies</th>\n",
       "      <th>PlasmaGlucose</th>\n",
       "      <th>DiastolicBloodPressure</th>\n",
       "      <th>TricepsThickness</th>\n",
       "      <th>SerumInsulin</th>\n",
       "      <th>BMI</th>\n",
       "      <th>DiabetesPedigree</th>\n",
       "      <th>Age</th>\n",
       "      <th>Diabetic</th>\n",
       "    </tr>\n",
       "  </thead>\n",
       "  <tbody>\n",
       "    <tr>\n",
       "      <th>0</th>\n",
       "      <td>1354778</td>\n",
       "      <td>0</td>\n",
       "      <td>171</td>\n",
       "      <td>80</td>\n",
       "      <td>34</td>\n",
       "      <td>23</td>\n",
       "      <td>43.509726</td>\n",
       "      <td>1.213191</td>\n",
       "      <td>21</td>\n",
       "      <td>0</td>\n",
       "    </tr>\n",
       "    <tr>\n",
       "      <th>1</th>\n",
       "      <td>1147438</td>\n",
       "      <td>8</td>\n",
       "      <td>92</td>\n",
       "      <td>93</td>\n",
       "      <td>47</td>\n",
       "      <td>36</td>\n",
       "      <td>21.240576</td>\n",
       "      <td>0.158365</td>\n",
       "      <td>23</td>\n",
       "      <td>0</td>\n",
       "    </tr>\n",
       "    <tr>\n",
       "      <th>2</th>\n",
       "      <td>1640031</td>\n",
       "      <td>7</td>\n",
       "      <td>115</td>\n",
       "      <td>47</td>\n",
       "      <td>52</td>\n",
       "      <td>35</td>\n",
       "      <td>41.511523</td>\n",
       "      <td>0.079019</td>\n",
       "      <td>23</td>\n",
       "      <td>0</td>\n",
       "    </tr>\n",
       "    <tr>\n",
       "      <th>3</th>\n",
       "      <td>1883350</td>\n",
       "      <td>9</td>\n",
       "      <td>103</td>\n",
       "      <td>78</td>\n",
       "      <td>25</td>\n",
       "      <td>304</td>\n",
       "      <td>29.582192</td>\n",
       "      <td>1.282870</td>\n",
       "      <td>43</td>\n",
       "      <td>1</td>\n",
       "    </tr>\n",
       "    <tr>\n",
       "      <th>4</th>\n",
       "      <td>1424119</td>\n",
       "      <td>1</td>\n",
       "      <td>85</td>\n",
       "      <td>59</td>\n",
       "      <td>27</td>\n",
       "      <td>35</td>\n",
       "      <td>42.604536</td>\n",
       "      <td>0.549542</td>\n",
       "      <td>22</td>\n",
       "      <td>0</td>\n",
       "    </tr>\n",
       "    <tr>\n",
       "      <th>5</th>\n",
       "      <td>1619297</td>\n",
       "      <td>0</td>\n",
       "      <td>82</td>\n",
       "      <td>92</td>\n",
       "      <td>9</td>\n",
       "      <td>253</td>\n",
       "      <td>19.724160</td>\n",
       "      <td>0.103424</td>\n",
       "      <td>26</td>\n",
       "      <td>0</td>\n",
       "    </tr>\n",
       "    <tr>\n",
       "      <th>6</th>\n",
       "      <td>1660149</td>\n",
       "      <td>0</td>\n",
       "      <td>133</td>\n",
       "      <td>47</td>\n",
       "      <td>19</td>\n",
       "      <td>227</td>\n",
       "      <td>21.941357</td>\n",
       "      <td>0.174160</td>\n",
       "      <td>21</td>\n",
       "      <td>0</td>\n",
       "    </tr>\n",
       "    <tr>\n",
       "      <th>7</th>\n",
       "      <td>1458769</td>\n",
       "      <td>0</td>\n",
       "      <td>67</td>\n",
       "      <td>87</td>\n",
       "      <td>43</td>\n",
       "      <td>36</td>\n",
       "      <td>18.277723</td>\n",
       "      <td>0.236165</td>\n",
       "      <td>26</td>\n",
       "      <td>0</td>\n",
       "    </tr>\n",
       "    <tr>\n",
       "      <th>8</th>\n",
       "      <td>1201647</td>\n",
       "      <td>8</td>\n",
       "      <td>80</td>\n",
       "      <td>95</td>\n",
       "      <td>33</td>\n",
       "      <td>24</td>\n",
       "      <td>26.624929</td>\n",
       "      <td>0.443947</td>\n",
       "      <td>53</td>\n",
       "      <td>1</td>\n",
       "    </tr>\n",
       "    <tr>\n",
       "      <th>9</th>\n",
       "      <td>1403912</td>\n",
       "      <td>1</td>\n",
       "      <td>72</td>\n",
       "      <td>31</td>\n",
       "      <td>40</td>\n",
       "      <td>42</td>\n",
       "      <td>36.889576</td>\n",
       "      <td>0.103944</td>\n",
       "      <td>26</td>\n",
       "      <td>0</td>\n",
       "    </tr>\n",
       "  </tbody>\n",
       "</table>\n",
       "</div>"
      ],
      "text/plain": [
       "   PatientID  Pregnancies  PlasmaGlucose  DiastolicBloodPressure  \\\n",
       "0    1354778            0            171                      80   \n",
       "1    1147438            8             92                      93   \n",
       "2    1640031            7            115                      47   \n",
       "3    1883350            9            103                      78   \n",
       "4    1424119            1             85                      59   \n",
       "5    1619297            0             82                      92   \n",
       "6    1660149            0            133                      47   \n",
       "7    1458769            0             67                      87   \n",
       "8    1201647            8             80                      95   \n",
       "9    1403912            1             72                      31   \n",
       "\n",
       "   TricepsThickness  SerumInsulin        BMI  DiabetesPedigree  Age  Diabetic  \n",
       "0                34            23  43.509726          1.213191   21         0  \n",
       "1                47            36  21.240576          0.158365   23         0  \n",
       "2                52            35  41.511523          0.079019   23         0  \n",
       "3                25           304  29.582192          1.282870   43         1  \n",
       "4                27            35  42.604536          0.549542   22         0  \n",
       "5                 9           253  19.724160          0.103424   26         0  \n",
       "6                19           227  21.941357          0.174160   21         0  \n",
       "7                43            36  18.277723          0.236165   26         0  \n",
       "8                33            24  26.624929          0.443947   53         1  \n",
       "9                40            42  36.889576          0.103944   26         0  "
      ]
     },
     "execution_count": 7,
     "metadata": {},
     "output_type": "execute_result"
    }
   ],
   "source": [
    "# Getting the first 10 records of the datatset\n",
    "dataset.head(n=10)"
   ]
  },
  {
   "cell_type": "markdown",
   "metadata": {},
   "source": [
    "Now, we have better sense of the datset and it can be concluded that this dataset is of the diabetes patients.It records the various features ie. PatientID, Blood Pressure, BMI, Age etc for the Patients.Also all the features are numerical except the Diabetic target dependent variable which is a categorical variable i.e Diabetic(0)/ Non-diabetic(1).\n"
   ]
  },
  {
   "cell_type": "code",
   "execution_count": 8,
   "metadata": {},
   "outputs": [],
   "source": [
    "# Dropped the PatientID Column as it's just an ID\n",
    "dataset = dataset.drop(['PatientID'],axis=1)"
   ]
  },
  {
   "cell_type": "code",
   "execution_count": 9,
   "metadata": {},
   "outputs": [
    {
     "data": {
      "text/html": [
       "<div>\n",
       "<style>\n",
       "    .dataframe thead tr:only-child th {\n",
       "        text-align: right;\n",
       "    }\n",
       "\n",
       "    .dataframe thead th {\n",
       "        text-align: left;\n",
       "    }\n",
       "\n",
       "    .dataframe tbody tr th {\n",
       "        vertical-align: top;\n",
       "    }\n",
       "</style>\n",
       "<table border=\"1\" class=\"dataframe\">\n",
       "  <thead>\n",
       "    <tr style=\"text-align: right;\">\n",
       "      <th></th>\n",
       "      <th>Pregnancies</th>\n",
       "      <th>PlasmaGlucose</th>\n",
       "      <th>DiastolicBloodPressure</th>\n",
       "      <th>TricepsThickness</th>\n",
       "      <th>SerumInsulin</th>\n",
       "      <th>BMI</th>\n",
       "      <th>DiabetesPedigree</th>\n",
       "      <th>Age</th>\n",
       "    </tr>\n",
       "    <tr>\n",
       "      <th>Diabetic</th>\n",
       "      <th></th>\n",
       "      <th></th>\n",
       "      <th></th>\n",
       "      <th></th>\n",
       "      <th></th>\n",
       "      <th></th>\n",
       "      <th></th>\n",
       "      <th></th>\n",
       "    </tr>\n",
       "  </thead>\n",
       "  <tbody>\n",
       "    <tr>\n",
       "      <th>0</th>\n",
       "      <td>2.2479</td>\n",
       "      <td>104.9622</td>\n",
       "      <td>70.1387</td>\n",
       "      <td>27.2444</td>\n",
       "      <td>114.5765</td>\n",
       "      <td>30.057052</td>\n",
       "      <td>0.353457</td>\n",
       "      <td>27.2090</td>\n",
       "    </tr>\n",
       "    <tr>\n",
       "      <th>1</th>\n",
       "      <td>5.1778</td>\n",
       "      <td>113.6462</td>\n",
       "      <td>73.3846</td>\n",
       "      <td>31.9532</td>\n",
       "      <td>184.4034</td>\n",
       "      <td>34.414834</td>\n",
       "      <td>0.489990</td>\n",
       "      <td>35.9952</td>\n",
       "    </tr>\n",
       "  </tbody>\n",
       "</table>\n",
       "</div>"
      ],
      "text/plain": [
       "          Pregnancies  PlasmaGlucose  DiastolicBloodPressure  \\\n",
       "Diabetic                                                       \n",
       "0              2.2479       104.9622                 70.1387   \n",
       "1              5.1778       113.6462                 73.3846   \n",
       "\n",
       "          TricepsThickness  SerumInsulin        BMI  DiabetesPedigree      Age  \n",
       "Diabetic                                                                        \n",
       "0                  27.2444      114.5765  30.057052          0.353457  27.2090  \n",
       "1                  31.9532      184.4034  34.414834          0.489990  35.9952  "
      ]
     },
     "execution_count": 9,
     "metadata": {},
     "output_type": "execute_result"
    }
   ],
   "source": [
    "dataset.groupby('Diabetic').mean()"
   ]
  },
  {
   "cell_type": "markdown",
   "metadata": {},
   "source": [
    "As we can see that average scenarios for the Diabetic Patients is significantly higher than the Non-diabetic Patients.For example the average Age of the Diabetic Patients is higher than the average age of Non-diabetic Patients.\n",
    "\n",
    "So Can we conlcude that the Higher the Age,The more chances of getting diabetic? Let's find the co-relation between the two."
   ]
  },
  {
   "cell_type": "code",
   "execution_count": 10,
   "metadata": {},
   "outputs": [
    {
     "data": {
      "text/plain": [
       "0.34260499494073321"
      ]
     },
     "execution_count": 10,
     "metadata": {},
     "output_type": "execute_result"
    }
   ],
   "source": [
    "dataset['Age'].corr(dataset['Diabetic'])"
   ]
  },
  {
   "cell_type": "markdown",
   "metadata": {},
   "source": [
    "So, There is a positive correlation but less than 0.5.Also, remember that correlation is not causation. \n"
   ]
  },
  {
   "cell_type": "code",
   "execution_count": 11,
   "metadata": {},
   "outputs": [
    {
     "data": {
      "text/html": [
       "<div>\n",
       "<style>\n",
       "    .dataframe thead tr:only-child th {\n",
       "        text-align: right;\n",
       "    }\n",
       "\n",
       "    .dataframe thead th {\n",
       "        text-align: left;\n",
       "    }\n",
       "\n",
       "    .dataframe tbody tr th {\n",
       "        vertical-align: top;\n",
       "    }\n",
       "</style>\n",
       "<table border=\"1\" class=\"dataframe\">\n",
       "  <thead>\n",
       "    <tr style=\"text-align: right;\">\n",
       "      <th></th>\n",
       "      <th>Pregnancies</th>\n",
       "      <th>PlasmaGlucose</th>\n",
       "      <th>DiastolicBloodPressure</th>\n",
       "      <th>TricepsThickness</th>\n",
       "      <th>SerumInsulin</th>\n",
       "      <th>BMI</th>\n",
       "      <th>DiabetesPedigree</th>\n",
       "      <th>Age</th>\n",
       "      <th>Diabetic</th>\n",
       "    </tr>\n",
       "  </thead>\n",
       "  <tbody>\n",
       "    <tr>\n",
       "      <th>count</th>\n",
       "      <td>15000.000000</td>\n",
       "      <td>15000.000000</td>\n",
       "      <td>15000.000000</td>\n",
       "      <td>15000.000000</td>\n",
       "      <td>15000.000000</td>\n",
       "      <td>15000.000000</td>\n",
       "      <td>15000.000000</td>\n",
       "      <td>15000.000000</td>\n",
       "      <td>15000.000000</td>\n",
       "    </tr>\n",
       "    <tr>\n",
       "      <th>mean</th>\n",
       "      <td>3.224533</td>\n",
       "      <td>107.856867</td>\n",
       "      <td>71.220667</td>\n",
       "      <td>28.814000</td>\n",
       "      <td>137.852133</td>\n",
       "      <td>31.509646</td>\n",
       "      <td>0.398968</td>\n",
       "      <td>30.137733</td>\n",
       "      <td>0.333333</td>\n",
       "    </tr>\n",
       "    <tr>\n",
       "      <th>std</th>\n",
       "      <td>3.391020</td>\n",
       "      <td>31.981975</td>\n",
       "      <td>16.758716</td>\n",
       "      <td>14.555716</td>\n",
       "      <td>133.068252</td>\n",
       "      <td>9.759000</td>\n",
       "      <td>0.377944</td>\n",
       "      <td>12.089703</td>\n",
       "      <td>0.471420</td>\n",
       "    </tr>\n",
       "    <tr>\n",
       "      <th>min</th>\n",
       "      <td>0.000000</td>\n",
       "      <td>44.000000</td>\n",
       "      <td>24.000000</td>\n",
       "      <td>7.000000</td>\n",
       "      <td>14.000000</td>\n",
       "      <td>18.200512</td>\n",
       "      <td>0.078044</td>\n",
       "      <td>21.000000</td>\n",
       "      <td>0.000000</td>\n",
       "    </tr>\n",
       "    <tr>\n",
       "      <th>25%</th>\n",
       "      <td>0.000000</td>\n",
       "      <td>84.000000</td>\n",
       "      <td>58.000000</td>\n",
       "      <td>15.000000</td>\n",
       "      <td>39.000000</td>\n",
       "      <td>21.259887</td>\n",
       "      <td>0.137743</td>\n",
       "      <td>22.000000</td>\n",
       "      <td>0.000000</td>\n",
       "    </tr>\n",
       "    <tr>\n",
       "      <th>50%</th>\n",
       "      <td>2.000000</td>\n",
       "      <td>104.000000</td>\n",
       "      <td>72.000000</td>\n",
       "      <td>31.000000</td>\n",
       "      <td>83.000000</td>\n",
       "      <td>31.767940</td>\n",
       "      <td>0.200297</td>\n",
       "      <td>24.000000</td>\n",
       "      <td>0.000000</td>\n",
       "    </tr>\n",
       "    <tr>\n",
       "      <th>75%</th>\n",
       "      <td>6.000000</td>\n",
       "      <td>129.000000</td>\n",
       "      <td>85.000000</td>\n",
       "      <td>41.000000</td>\n",
       "      <td>195.000000</td>\n",
       "      <td>39.259692</td>\n",
       "      <td>0.616285</td>\n",
       "      <td>35.000000</td>\n",
       "      <td>1.000000</td>\n",
       "    </tr>\n",
       "    <tr>\n",
       "      <th>max</th>\n",
       "      <td>14.000000</td>\n",
       "      <td>192.000000</td>\n",
       "      <td>117.000000</td>\n",
       "      <td>93.000000</td>\n",
       "      <td>799.000000</td>\n",
       "      <td>56.034628</td>\n",
       "      <td>2.301594</td>\n",
       "      <td>77.000000</td>\n",
       "      <td>1.000000</td>\n",
       "    </tr>\n",
       "  </tbody>\n",
       "</table>\n",
       "</div>"
      ],
      "text/plain": [
       "        Pregnancies  PlasmaGlucose  DiastolicBloodPressure  TricepsThickness  \\\n",
       "count  15000.000000   15000.000000            15000.000000      15000.000000   \n",
       "mean       3.224533     107.856867               71.220667         28.814000   \n",
       "std        3.391020      31.981975               16.758716         14.555716   \n",
       "min        0.000000      44.000000               24.000000          7.000000   \n",
       "25%        0.000000      84.000000               58.000000         15.000000   \n",
       "50%        2.000000     104.000000               72.000000         31.000000   \n",
       "75%        6.000000     129.000000               85.000000         41.000000   \n",
       "max       14.000000     192.000000              117.000000         93.000000   \n",
       "\n",
       "       SerumInsulin           BMI  DiabetesPedigree           Age  \\\n",
       "count  15000.000000  15000.000000      15000.000000  15000.000000   \n",
       "mean     137.852133     31.509646          0.398968     30.137733   \n",
       "std      133.068252      9.759000          0.377944     12.089703   \n",
       "min       14.000000     18.200512          0.078044     21.000000   \n",
       "25%       39.000000     21.259887          0.137743     22.000000   \n",
       "50%       83.000000     31.767940          0.200297     24.000000   \n",
       "75%      195.000000     39.259692          0.616285     35.000000   \n",
       "max      799.000000     56.034628          2.301594     77.000000   \n",
       "\n",
       "           Diabetic  \n",
       "count  15000.000000  \n",
       "mean       0.333333  \n",
       "std        0.471420  \n",
       "min        0.000000  \n",
       "25%        0.000000  \n",
       "50%        0.000000  \n",
       "75%        1.000000  \n",
       "max        1.000000  "
      ]
     },
     "execution_count": 11,
     "metadata": {},
     "output_type": "execute_result"
    }
   ],
   "source": [
    "# Let's get some more sense of the data\n",
    "dataset.describe()"
   ]
  },
  {
   "cell_type": "code",
   "execution_count": 12,
   "metadata": {},
   "outputs": [
    {
     "data": {
      "text/plain": [
       "Pregnancies                 2.000000\n",
       "PlasmaGlucose             104.000000\n",
       "DiastolicBloodPressure     72.000000\n",
       "TricepsThickness           31.000000\n",
       "SerumInsulin               83.000000\n",
       "BMI                        31.767940\n",
       "DiabetesPedigree            0.200297\n",
       "Age                        24.000000\n",
       "Diabetic                    0.000000\n",
       "dtype: float64"
      ]
     },
     "execution_count": 12,
     "metadata": {},
     "output_type": "execute_result"
    }
   ],
   "source": [
    "# Median\n",
    "dataset.median()"
   ]
  },
  {
   "cell_type": "markdown",
   "metadata": {},
   "source": [
    "### Visualisation\n",
    "Let's plot some graphs to get more sense of the data"
   ]
  },
  {
   "cell_type": "code",
   "execution_count": 13,
   "metadata": {},
   "outputs": [
    {
     "data": {
      "image/png": "[encoded data removed]",
      "text/plain": [
       "<matplotlib.figure.Figure at 0x27f85857f28>"
      ]
     },
     "metadata": {},
     "output_type": "display_data"
    },
    {
     "data": {
      "text/plain": [
       "0    10000\n",
       "1     5000\n",
       "Name: Diabetic, dtype: int64"
      ]
     },
     "execution_count": 13,
     "metadata": {},
     "output_type": "execute_result"
    }
   ],
   "source": [
    "# Plot for Diabetic(Yes(1),No(0))\n",
    "sns.countplot(x='Diabetic',data = dataset, palette = 'hls')\n",
    "sns.set(style=\"white\")\n",
    "plt.show()\n",
    "\n",
    "# Counting Yes/No Values \n",
    "dataset['Diabetic'].value_counts()"
   ]
  },
  {
   "cell_type": "code",
   "execution_count": 14,
   "metadata": {},
   "outputs": [
    {
     "data": {
      "image/png": "[encoded data removed]",
      "text/plain": [
       "<matplotlib.figure.Figure at 0x27f86e5a400>"
      ]
     },
     "metadata": {},
     "output_type": "display_data"
    }
   ],
   "source": [
    "# Heatmap\n",
    "sns.heatmap(dataset.corr())\n",
    "plt.show()"
   ]
  },
  {
   "cell_type": "markdown",
   "metadata": {},
   "source": [
    "Heatmap depicts the relationship between the datapoints.Here the color intensity gives the strength of the relationship. "
   ]
  },
  {
   "cell_type": "code",
   "execution_count": 15,
   "metadata": {},
   "outputs": [
    {
     "data": {
      "text/plain": [
       "<matplotlib.axes._subplots.AxesSubplot at 0x27f896ea2e8>"
      ]
     },
     "execution_count": 15,
     "metadata": {},
     "output_type": "execute_result"
    },
    {
     "data": {
      "image/png": "[encoded data removed]",
      "text/plain": [
       "<matplotlib.figure.Figure at 0x27f898316a0>"
      ]
     },
     "metadata": {},
     "output_type": "display_data"
    }
   ],
   "source": [
    "# Histogram\n",
    "x = dataset['Age']\n",
    "sns.distplot(x,color = 'black')"
   ]
  },
  {
   "cell_type": "markdown",
   "metadata": {},
   "source": [
    "As we can see that the distribution is Right-skewed, So we can consider taking the log of the variable  to reduce skewness to some level."
   ]
  },
  {
   "cell_type": "code",
   "execution_count": 16,
   "metadata": {},
   "outputs": [
    {
     "data": {
      "text/plain": [
       "<matplotlib.axes._subplots.AxesSubplot at 0x27f89d99940>"
      ]
     },
     "execution_count": 16,
     "metadata": {},
     "output_type": "execute_result"
    },
    {
     "data": {
      "image/png": "[encoded data removed]",
      "text/plain": [
       "<matplotlib.figure.Figure at 0x27f89c994a8>"
      ]
     },
     "metadata": {},
     "output_type": "display_data"
    }
   ],
   "source": [
    "# Histograms with seaborn\n",
    "f, axes = plt.subplots(2, 2, figsize=(10, 10), sharex=True)\n",
    "sns.distplot( dataset['PlasmaGlucose'] , color=\"skyblue\",bins=10,  ax=axes[0, 0])\n",
    "sns.distplot( dataset[\"DiastolicBloodPressure\"],color=\"olive\",bins=20,ax=axes[0, 1])\n",
    "sns.distplot( dataset[\"TricepsThickness\"] ,color=\"gold\",bins=20,ax=axes[1, 0])\n",
    "sns.distplot( dataset[\"SerumInsulin\"] ,color=\"teal\",bins=20,ax=axes[1, 1])\n"
   ]
  },
  {
   "cell_type": "markdown",
   "metadata": {},
   "source": [
    "These distributions looks normal. "
   ]
  },
  {
   "cell_type": "code",
   "execution_count": 17,
   "metadata": {},
   "outputs": [
    {
     "data": {
      "text/plain": [
       "array([[<matplotlib.axes._subplots.AxesSubplot object at 0x0000027F89C28400>,\n",
       "        <matplotlib.axes._subplots.AxesSubplot object at 0x0000027F8B2B0C50>],\n",
       "       [<matplotlib.axes._subplots.AxesSubplot object at 0x0000027F8B2EF1D0>,\n",
       "        <matplotlib.axes._subplots.AxesSubplot object at 0x0000027F8B3237F0>]], dtype=object)"
      ]
     },
     "execution_count": 17,
     "metadata": {},
     "output_type": "execute_result"
    },
    {
     "data": {
      "image/png": "[encoded data removed]",
      "text/plain": [
       "<matplotlib.figure.Figure at 0x27f89837b38>"
      ]
     },
     "metadata": {},
     "output_type": "display_data"
    }
   ],
   "source": [
    "# Histograms with pandas\n",
    "df = dataset[['BMI','DiabetesPedigree','Pregnancies']]\n",
    "df.hist(bins=20)"
   ]
  },
  {
   "cell_type": "markdown",
   "metadata": {},
   "source": [
    "DiabetesPedigree and Pregnancies looks right skewed."
   ]
  },
  {
   "cell_type": "code",
   "execution_count": 18,
   "metadata": {},
   "outputs": [
    {
     "data": {
      "text/plain": [
       "<matplotlib.axes._subplots.AxesSubplot at 0x27f8b3a44e0>"
      ]
     },
     "execution_count": 18,
     "metadata": {},
     "output_type": "execute_result"
    },
    {
     "data": {
      "image/png": "[encoded data removed]",
      "text/plain": [
       "<matplotlib.figure.Figure at 0x27f8b376c18>"
      ]
     },
     "metadata": {},
     "output_type": "display_data"
    }
   ],
   "source": [
    "# Taking ln of Age column to create new column Ln_Age\n",
    "dataset['Ln_Age'] = np.log(dataset.Age)\n",
    "sns.distplot(dataset['Ln_Age'],bins=30)\n"
   ]
  },
  {
   "cell_type": "markdown",
   "metadata": {},
   "source": [
    "Looks better now.\n",
    "### Feature Scaling\n"
   ]
  },
  {
   "cell_type": "code",
   "execution_count": 19,
   "metadata": {},
   "outputs": [
    {
     "name": "stdout",
     "output_type": "stream",
     "text": [
      "       Pregnancies  PlasmaGlucose  DiastolicBloodPressure  TricepsThickness  \\\n",
      "0                0       1.974401                0.523884          0.356298   \n",
      "1                8      -0.495823                1.299626          1.249448   \n",
      "2                7       0.223356               -1.445306          1.592967   \n",
      "3                9      -0.151868                0.404539         -0.262036   \n",
      "4                1      -0.714703               -0.729237         -0.124629   \n",
      "5                0      -0.808509                1.239953         -1.361298   \n",
      "6                0       0.786192               -1.445306         -0.674259   \n",
      "7                0      -1.277539                0.941591          0.974632   \n",
      "8                8      -0.871047                1.418971          0.287594   \n",
      "9                1      -1.121196               -2.400065          0.768521   \n",
      "10               1      -0.620898                0.881919         -1.223890   \n",
      "11               3      -0.433286                1.478643          0.150187   \n",
      "12               5       0.192088                1.777005          0.974632   \n",
      "13               7       0.067013                0.643229         -0.880371   \n",
      "14               0       1.255222               -0.788909         -1.223890   \n",
      "15               3       0.035744                0.344867          1.180744   \n",
      "16               3      -0.058062               -0.430875         -0.262036   \n",
      "17               1       1.505371               -1.087271         -0.949075   \n",
      "18               8       0.285893               -1.922686          0.218890   \n",
      "19               3      -0.183136                1.717333         -0.262036   \n",
      "20               0      -0.495823                0.762574         -1.430001   \n",
      "21               0       0.317162                1.418971         -1.498705   \n",
      "22               1      -0.808509               -0.967927         -0.742963   \n",
      "23               1       0.504774                0.643229          0.905929   \n",
      "24               2      -1.996718                0.583557          1.180744   \n",
      "25               9      -0.120599               -0.192185          0.905929   \n",
      "26               6       0.848729                1.180281          0.150187   \n",
      "27               3       1.724252                0.941591          0.905929   \n",
      "28               0       0.348431               -1.266289          1.592967   \n",
      "29               0      -1.183733               -0.430875         -1.361298   \n",
      "...            ...            ...                     ...               ...   \n",
      "14970            9      -0.683435                0.643229          0.974632   \n",
      "14971            2      -0.339480                0.583557          1.524263   \n",
      "14972            3       0.035744               -0.550220         -0.468148   \n",
      "14973            1      -1.152465               -0.013168         -0.880371   \n",
      "14974            9       1.911864                1.299626          0.768521   \n",
      "14975            8      -1.246271               -0.251857         -1.498705   \n",
      "14976            1      -0.902315                0.523884          0.425002   \n",
      "14977            0      -0.120599                1.418971          0.012779   \n",
      "14978            8      -0.620898               -0.251857          0.699817   \n",
      "14979            6      -1.027390               -0.550220         -0.399444   \n",
      "14980            9      -1.621494               -1.385634          0.425002   \n",
      "14981            0      -0.652166               -1.743668         -1.155186   \n",
      "14982            6      -0.683435                0.106177         -1.292594   \n",
      "14983            8       0.160819               -0.311530          0.974632   \n",
      "14984            8       0.348431               -0.072840         -0.536852   \n",
      "14985            0      -1.027390               -0.967927         -1.498705   \n",
      "14986            6       0.348431                0.285194         -0.949075   \n",
      "14987            2      -0.839778                0.464212          2.760932   \n",
      "14988            2      -1.308808               -0.251857         -0.468148   \n",
      "14989            6       0.754923                1.120608          0.631113   \n",
      "14990            5       1.911864                0.702901          0.150187   \n",
      "14991            0       0.192088               -1.087271          0.356298   \n",
      "14992            3      -1.871644               -0.669564         -0.330740   \n",
      "14993            1       0.629849               -0.729237         -0.536852   \n",
      "14994            0      -1.121196                1.657660          0.218890   \n",
      "14995           10      -1.340077               -0.669564          1.180744   \n",
      "14996            2      -1.089927               -0.311530         -0.124629   \n",
      "14997            0      -0.464554                1.060936          0.974632   \n",
      "14998            0       0.754923                1.597988         -0.742963   \n",
      "14999            3       0.192088               -0.371202          1.249448   \n",
      "\n",
      "       SerumInsulin       BMI  DiabetesPedigree  Age  Diabetic    Ln_Age  \n",
      "0         -0.863136  1.229683          1.213191   21         0  3.044522  \n",
      "1         -0.765438 -1.052302          0.158365   23         0  3.135494  \n",
      "2         -0.772953  1.024922          0.079019   23         0  3.135494  \n",
      "3          1.248633 -0.197512          1.282870   43         1  3.761200  \n",
      "4         -0.772953  1.136926          0.549542   22         0  3.091042  \n",
      "5          0.865358 -1.207693          0.103424   26         0  3.258097  \n",
      "6          0.669963 -0.980491          0.174160   21         0  3.044522  \n",
      "7         -0.765438 -1.355914          0.236165   26         0  3.258097  \n",
      "8         -0.855621 -0.500551          0.443947   53         1  3.970292  \n",
      "9         -0.720347  0.551297          0.103944   26         0  3.258097  \n",
      "10        -0.600104  1.200511          0.230285   22         0  3.091042  \n",
      "11        -0.765438 -1.046778          0.259020   23         0  3.135494  \n",
      "12        -0.509922  0.510897          0.079190   38         1  3.637586  \n",
      "13        -0.705317  0.469290          0.281276   25         0  3.218876  \n",
      "14         0.309234  0.787241          0.160829   45         0  3.806662  \n",
      "15        -0.577558 -1.195074          0.204345   21         1  3.044522  \n",
      "16        -0.652710 -0.252603          0.589188   42         1  3.737670  \n",
      "17         0.662448 -0.176607          0.203824   41         1  3.713572  \n",
      "18         0.196506 -1.053283          0.089363   25         0  3.218876  \n",
      "19         1.135905  1.094009          0.175593   43         1  3.761200  \n",
      "20         1.398937 -0.988186          0.258332   33         0  3.496508  \n",
      "21         1.038208  1.126305          0.083558   24         0  3.178054  \n",
      "22         0.204021  0.524518          0.171620   23         0  3.135494  \n",
      "23         0.963056  0.356209          0.083335   25         0  3.218876  \n",
      "24         0.061233  0.309923          0.693502   55         1  4.007333  \n",
      "25        -0.735377  2.084889          0.182938   21         1  3.044522  \n",
      "26        -0.930772  1.410485          0.707163   21         1  3.044522  \n",
      "27         2.180517 -1.325842          0.777016   25         0  3.218876  \n",
      "28        -0.915742  1.422475          0.270567   22         0  3.091042  \n",
      "29        -0.915742 -1.078468          0.137393   33         0  3.496508  \n",
      "...             ...       ...               ...  ...       ...       ...  \n",
      "14970     -0.840590  0.571599          0.589563   22         0  3.091042  \n",
      "14971      1.827303 -1.315394          0.243281   37         1  3.610918  \n",
      "14972     -0.562528  0.789692          0.509332   44         1  3.784190  \n",
      "14973     -0.795499  1.524096          0.107268   21         0  3.044522  \n",
      "14974     -0.600104 -0.989205          0.792317   55         1  4.007333  \n",
      "14975      0.647418  0.757675          0.133446   22         0  3.091042  \n",
      "14976      1.331300  0.102749          0.182541   45         0  3.806662  \n",
      "14977     -0.600104  1.689203          0.203845   62         1  4.127134  \n",
      "14978      1.872394 -1.091452          0.899682   22         1  3.091042  \n",
      "14979      0.361840 -1.113581          0.745377   43         0  3.761200  \n",
      "14980     -0.878166 -1.248949          0.614377   23         0  3.135494  \n",
      "14981      0.196506 -0.048351          0.190068   24         0  3.178054  \n",
      "14982      2.060274  0.686040          0.199657   21         1  3.044522  \n",
      "14983      0.572266 -1.267690          0.143024   22         1  3.091042  \n",
      "14984     -0.562528  2.087133          0.172106   44         1  3.784190  \n",
      "14985      0.512144  1.928563          0.102772   25         0  3.218876  \n",
      "14986     -0.434770  0.529825          0.200504   22         1  3.091042  \n",
      "14987     -0.885681  0.367263          0.766683   47         1  3.850148  \n",
      "14988     -0.494891 -0.081359          0.129056   21         1  3.044522  \n",
      "14989     -0.074041 -1.113041          0.265326   43         0  3.761200  \n",
      "14990     -0.585074  1.792779          0.187397   53         1  3.970292  \n",
      "14991     -0.735377  1.357857          0.143487   23         0  3.135494  \n",
      "14992     -0.427255 -0.214424          0.159605   42         1  3.737670  \n",
      "14993      0.331780 -1.203353          0.167280   53         0  3.970292  \n",
      "14994     -0.795499 -1.083840          0.545038   22         0  3.091042  \n",
      "14995      0.294204  0.205235          0.148327   41         1  3.713572  \n",
      "14996      0.226567 -0.141106          0.862252   38         1  3.637586  \n",
      "14997     -0.607619 -1.313597          0.427049   24         0  3.178054  \n",
      "14998      0.173961 -1.200778          0.302257   23         0  3.135494  \n",
      "14999      2.811793  0.482216          0.147363   34         1  3.526361  \n",
      "\n",
      "[15000 rows x 10 columns]\n"
     ]
    }
   ],
   "source": [
    "# Standardization (or Z-Score Normalization)\n",
    "from sklearn.preprocessing import StandardScaler\n",
    "dataset_copy = dataset.copy()\n",
    "Zscale_cols = ['PlasmaGlucose','DiastolicBloodPressure','TricepsThickness','SerumInsulin','BMI']\n",
    "Zscale_features = dataset_copy[Zscale_cols]\n",
    "zscale_scaled = StandardScaler().fit_transform(Zscale_features.values)\n",
    "dataset_copy[Zscale_cols] = zscale_scaled\n",
    "print(dataset_copy)"
   ]
  },
  {
   "cell_type": "code",
   "execution_count": 20,
   "metadata": {},
   "outputs": [
    {
     "name": "stdout",
     "output_type": "stream",
     "text": [
      "       Pregnancies  PlasmaGlucose  DiastolicBloodPressure  TricepsThickness  \\\n",
      "0         0.000000       1.974401                0.523884          0.356298   \n",
      "1         0.571429      -0.495823                1.299626          1.249448   \n",
      "2         0.500000       0.223356               -1.445306          1.592967   \n",
      "3         0.642857      -0.151868                0.404539         -0.262036   \n",
      "4         0.071429      -0.714703               -0.729237         -0.124629   \n",
      "5         0.000000      -0.808509                1.239953         -1.361298   \n",
      "6         0.000000       0.786192               -1.445306         -0.674259   \n",
      "7         0.000000      -1.277539                0.941591          0.974632   \n",
      "8         0.571429      -0.871047                1.418971          0.287594   \n",
      "9         0.071429      -1.121196               -2.400065          0.768521   \n",
      "10        0.071429      -0.620898                0.881919         -1.223890   \n",
      "11        0.214286      -0.433286                1.478643          0.150187   \n",
      "12        0.357143       0.192088                1.777005          0.974632   \n",
      "13        0.500000       0.067013                0.643229         -0.880371   \n",
      "14        0.000000       1.255222               -0.788909         -1.223890   \n",
      "15        0.214286       0.035744                0.344867          1.180744   \n",
      "16        0.214286      -0.058062               -0.430875         -0.262036   \n",
      "17        0.071429       1.505371               -1.087271         -0.949075   \n",
      "18        0.571429       0.285893               -1.922686          0.218890   \n",
      "19        0.214286      -0.183136                1.717333         -0.262036   \n",
      "20        0.000000      -0.495823                0.762574         -1.430001   \n",
      "21        0.000000       0.317162                1.418971         -1.498705   \n",
      "22        0.071429      -0.808509               -0.967927         -0.742963   \n",
      "23        0.071429       0.504774                0.643229          0.905929   \n",
      "24        0.142857      -1.996718                0.583557          1.180744   \n",
      "25        0.642857      -0.120599               -0.192185          0.905929   \n",
      "26        0.428571       0.848729                1.180281          0.150187   \n",
      "27        0.214286       1.724252                0.941591          0.905929   \n",
      "28        0.000000       0.348431               -1.266289          1.592967   \n",
      "29        0.000000      -1.183733               -0.430875         -1.361298   \n",
      "...            ...            ...                     ...               ...   \n",
      "14970     0.642857      -0.683435                0.643229          0.974632   \n",
      "14971     0.142857      -0.339480                0.583557          1.524263   \n",
      "14972     0.214286       0.035744               -0.550220         -0.468148   \n",
      "14973     0.071429      -1.152465               -0.013168         -0.880371   \n",
      "14974     0.642857       1.911864                1.299626          0.768521   \n",
      "14975     0.571429      -1.246271               -0.251857         -1.498705   \n",
      "14976     0.071429      -0.902315                0.523884          0.425002   \n",
      "14977     0.000000      -0.120599                1.418971          0.012779   \n",
      "14978     0.571429      -0.620898               -0.251857          0.699817   \n",
      "14979     0.428571      -1.027390               -0.550220         -0.399444   \n",
      "14980     0.642857      -1.621494               -1.385634          0.425002   \n",
      "14981     0.000000      -0.652166               -1.743668         -1.155186   \n",
      "14982     0.428571      -0.683435                0.106177         -1.292594   \n",
      "14983     0.571429       0.160819               -0.311530          0.974632   \n",
      "14984     0.571429       0.348431               -0.072840         -0.536852   \n",
      "14985     0.000000      -1.027390               -0.967927         -1.498705   \n",
      "14986     0.428571       0.348431                0.285194         -0.949075   \n",
      "14987     0.142857      -0.839778                0.464212          2.760932   \n",
      "14988     0.142857      -1.308808               -0.251857         -0.468148   \n",
      "14989     0.428571       0.754923                1.120608          0.631113   \n",
      "14990     0.357143       1.911864                0.702901          0.150187   \n",
      "14991     0.000000       0.192088               -1.087271          0.356298   \n",
      "14992     0.214286      -1.871644               -0.669564         -0.330740   \n",
      "14993     0.071429       0.629849               -0.729237         -0.536852   \n",
      "14994     0.000000      -1.121196                1.657660          0.218890   \n",
      "14995     0.714286      -1.340077               -0.669564          1.180744   \n",
      "14996     0.142857      -1.089927               -0.311530         -0.124629   \n",
      "14997     0.000000      -0.464554                1.060936          0.974632   \n",
      "14998     0.000000       0.754923                1.597988         -0.742963   \n",
      "14999     0.214286       0.192088               -0.371202          1.249448   \n",
      "\n",
      "       SerumInsulin       BMI  DiabetesPedigree       Age  Diabetic    Ln_Age  \n",
      "0         -0.863136  1.229683          0.510511  0.000000         0  0.000000  \n",
      "1         -0.765438 -1.052302          0.036123  0.035714         0  0.070017  \n",
      "2         -0.772953  1.024922          0.000438  0.035714         0  0.070017  \n",
      "3          1.248633 -0.197512          0.541848  0.392857         1  0.551595  \n",
      "4         -0.772953  1.136926          0.212047  0.017857         0  0.035804  \n",
      "5          0.865358 -1.207693          0.011414  0.089286         0  0.164378  \n",
      "6          0.669963 -0.980491          0.043226  0.000000         0  0.000000  \n",
      "7         -0.765438 -1.355914          0.071112  0.089286         0  0.164378  \n",
      "8         -0.855621 -0.500551          0.164558  0.571429         1  0.712523  \n",
      "9         -0.720347  0.551297          0.011648  0.089286         0  0.164378  \n",
      "10        -0.600104  1.200511          0.068467  0.017857         0  0.035804  \n",
      "11        -0.765438 -1.046778          0.081391  0.035714         0  0.070017  \n",
      "12        -0.509922  0.510897          0.000516  0.303571         1  0.456455  \n",
      "13        -0.705317  0.469290          0.091400  0.071429         0  0.134192  \n",
      "14         0.309234  0.787241          0.037231  0.428571         0  0.586585  \n",
      "15        -0.577558 -1.195074          0.056802  0.000000         1  0.000000  \n",
      "16        -0.652710 -0.252603          0.229878  0.375000         1  0.533484  \n",
      "17         0.662448 -0.176607          0.056567  0.357143         1  0.514938  \n",
      "18         0.196506 -1.053283          0.005090  0.071429         0  0.134192  \n",
      "19         1.135905  1.094009          0.043871  0.392857         1  0.551595  \n",
      "20         1.398937 -0.988186          0.081081  0.214286         0  0.347873  \n",
      "21         1.038208  1.126305          0.002480  0.053571         0  0.102773  \n",
      "22         0.204021  0.524518          0.042084  0.035714         0  0.070017  \n",
      "23         0.963056  0.356209          0.002380  0.071429         0  0.134192  \n",
      "24         0.061233  0.309923          0.276791  0.607143         1  0.741032  \n",
      "25        -0.735377  2.084889          0.047174  0.000000         1  0.000000  \n",
      "26        -0.930772  1.410485          0.282934  0.000000         1  0.000000  \n",
      "27         2.180517 -1.325842          0.314350  0.071429         0  0.134192  \n",
      "28        -0.915742  1.422475          0.086584  0.017857         0  0.035804  \n",
      "29        -0.915742 -1.078468          0.026691  0.214286         0  0.347873  \n",
      "...             ...       ...               ...       ...       ...       ...  \n",
      "14970     -0.840590  0.571599          0.230046  0.017857         0  0.035804  \n",
      "14971      1.827303 -1.315394          0.074312  0.285714         1  0.435929  \n",
      "14972     -0.562528  0.789692          0.193964  0.410714         1  0.569289  \n",
      "14973     -0.795499  1.524096          0.013143  0.000000         0  0.000000  \n",
      "14974     -0.600104 -0.989205          0.321231  0.607143         1  0.741032  \n",
      "14975      0.647418  0.757675          0.024916  0.017857         0  0.035804  \n",
      "14976      1.331300  0.102749          0.046996  0.428571         0  0.586585  \n",
      "14977     -0.600104  1.689203          0.056577  0.732143         1  0.833238  \n",
      "14978      1.872394 -1.091452          0.369516  0.017857         1  0.035804  \n",
      "14979      0.361840 -1.113581          0.300121  0.392857         0  0.551595  \n",
      "14980     -0.878166 -1.248949          0.241206  0.035714         0  0.070017  \n",
      "14981      0.196506 -0.048351          0.050381  0.053571         0  0.102773  \n",
      "14982      2.060274  0.686040          0.054693  0.000000         1  0.000000  \n",
      "14983      0.572266 -1.267690          0.029224  0.017857         1  0.035804  \n",
      "14984     -0.562528  2.087133          0.042303  0.410714         1  0.569289  \n",
      "14985      0.512144  1.928563          0.011121  0.071429         0  0.134192  \n",
      "14986     -0.434770  0.529825          0.055074  0.017857         1  0.035804  \n",
      "14987     -0.885681  0.367263          0.309703  0.464286         1  0.620054  \n",
      "14988     -0.494891 -0.081359          0.022942  0.000000         1  0.000000  \n",
      "14989     -0.074041 -1.113041          0.084227  0.392857         0  0.551595  \n",
      "14990     -0.585074  1.792779          0.049180  0.571429         1  0.712523  \n",
      "14991     -0.735377  1.357857          0.029432  0.035714         0  0.070017  \n",
      "14992     -0.427255 -0.214424          0.036681  0.375000         1  0.533484  \n",
      "14993      0.331780 -1.203353          0.040132  0.571429         0  0.712523  \n",
      "14994     -0.795499 -1.083840          0.210022  0.017857         0  0.035804  \n",
      "14995      0.294204  0.205235          0.031608  0.357143         1  0.514938  \n",
      "14996      0.226567 -0.141106          0.352683  0.303571         1  0.456455  \n",
      "14997     -0.607619 -1.313597          0.156959  0.053571         0  0.102773  \n",
      "14998      0.173961 -1.200778          0.100836  0.035714         0  0.070017  \n",
      "14999      2.811793  0.482216          0.031175  0.232143         1  0.370849  \n",
      "\n",
      "[15000 rows x 10 columns]\n"
     ]
    }
   ],
   "source": [
    "# Min-Max Scaling\n",
    "from sklearn.preprocessing import MinMaxScaler\n",
    "MinMax_cols = ['Pregnancies','DiabetesPedigree','Age','Ln_Age']\n",
    "MinMax_features = dataset_copy[MinMax_cols]\n",
    "MinMax_scaled = MinMaxScaler().fit_transform(MinMax_features.values)\n",
    "dataset_copy[MinMax_cols] = MinMax_scaled\n",
    "dataset_final = dataset_copy\n",
    "print(dataset_final)"
   ]
  },
  {
   "cell_type": "markdown",
   "metadata": {},
   "source": [
    "### Splitting the data into Train/Test"
   ]
  },
  {
   "cell_type": "code",
   "execution_count": 21,
   "metadata": {},
   "outputs": [],
   "source": [
    "# Splitting the data into predictors and the target variable \n",
    "\n",
    "X = dataset_final[['PlasmaGlucose','DiastolicBloodPressure','TricepsThickness','SerumInsulin','BMI','Pregnancies','DiabetesPedigree','Ln_Age']]\n",
    "Y = dataset_final[['Diabetic']]\n",
    "\n",
    "# Splitting the data into test and training set\n",
    "\n",
    "from sklearn.model_selection import train_test_split\n",
    "\n",
    "X_train, X_test, Y_train, Y_test = train_test_split(X,Y, test_size= 0.30, stratify = Y, random_state = 123 )"
   ]
  },
  {
   "cell_type": "markdown",
   "metadata": {},
   "source": [
    "Importing all the classifiers to be trained"
   ]
  },
  {
   "cell_type": "code",
   "execution_count": 22,
   "metadata": {},
   "outputs": [],
   "source": [
    "from sklearn.linear_model import LogisticRegression\n",
    "from sklearn import svm\n",
    "from sklearn.neighbors import KNeighborsClassifier\n",
    "from sklearn.naive_bayes import GaussianNB\n",
    "from sklearn.tree import DecisionTreeClassifier\n",
    "from sklearn.ensemble import RandomForestClassifier\n",
    "from sklearn.ensemble import GradientBoostingClassifier"
   ]
  },
  {
   "cell_type": "code",
   "execution_count": 23,
   "metadata": {},
   "outputs": [],
   "source": [
    "def classifiers(X_train,Y_train,X_test,Y_test):\n",
    "    \n",
    "    classifier = { }\n",
    "    Y_train , Y_test = Y_train.values.ravel(), Y_test.values.ravel()\n",
    "    # Defining the classifiers\n",
    "    clf_logit = LogisticRegression(random_state=0, C = 5.0)\n",
    "    clf_svc_linear = svm.SVC(kernel='linear',C = 5.0, probability = True)\n",
    "    clf_svc_rbf = svm.SVC(kernel = 'rbf', C = 5.0, probability = True)\n",
    "    clf_knn = KNeighborsClassifier(n_neighbors=3)\n",
    "    clf_nbc = GaussianNB()\n",
    "    clf_dtree = DecisionTreeClassifier(\n",
    "                                        criterion = 'gini', random_state = 100,\n",
    "                                        max_depth=3, min_samples_leaf=5\n",
    "                                      )\n",
    "    clf_rforest = RandomForestClassifier(\n",
    "                                        n_estimators=200, criterion='gini', \n",
    "                                        min_samples_split=2,random_state=1,\n",
    "                                       )\n",
    "    \n",
    "    clf_gboost  = GradientBoostingClassifier(\n",
    "                                        loss='deviance', learning_rate=0.3, n_estimators=100, subsample=1.0, \n",
    "                                        criterion='friedman_mse', min_samples_split=2, min_samples_leaf=10,\n",
    "                                        max_depth=3,max_leaf_nodes=5, warm_start=False, presort='auto')\n",
    "   \n",
    "    #Fitting the classifiers\n",
    "    classifier['logit'] = clf_logit.fit(X_train,Y_train)\n",
    "    classifier['svc_linear'] = clf_svc_linear.fit(X_train,Y_train)\n",
    "    classifier['svc_rbf'] = clf_svc_rbf.fit(X_train,Y_train)\n",
    "    classifier['knn'] = clf_knn.fit(X_train,Y_train)\n",
    "    classifier['nbc'] = clf_nbc.fit(X_train,Y_train)\n",
    "    classifier['dtree'] = clf_dtree.fit(X_train,Y_train)\n",
    "    classifier['rforest'] = clf_rforest.fit(X_train,Y_train)\n",
    "    classifier['gboost'] = clf_gboost.fit(X_train,Y_train)\n",
    "\n",
    "    return classifier\n",
    "    "
   ]
  },
  {
   "cell_type": "code",
   "execution_count": 24,
   "metadata": {},
   "outputs": [
    {
     "name": "stdout",
     "output_type": "stream",
     "text": [
      "The Accuracy of logit is 78.56\n",
      "The Accuracy of svc_linear is 78.87\n",
      "The Accuracy of svc_rbf is 86.67\n",
      "The Accuracy of knn is 85.6\n",
      "The Accuracy of nbc is 79.24\n",
      "The Accuracy of dtree is 86.62\n",
      "The Accuracy of rforest is 93.8\n",
      "The Accuracy of gboost is 95.36\n"
     ]
    }
   ],
   "source": [
    "clf = classifiers(X_train,Y_train,X_test,Y_test)\n",
    "for c in clf:\n",
    "    print(\"The Accuracy of \" +''+ c +' is'+' '+ str(round(clf[c].score(X_test,Y_test)*100,2)))\n",
    "\n",
    "    \n",
    "    \n",
    "    \n",
    "    "
   ]
  },
  {
   "cell_type": "markdown",
   "metadata": {},
   "source": [
    "As we can see that we are getting highest accuracy of 95.36 %.Not Bad.\n",
    "Let's explore some of the metrics with Gradient Boosting"
   ]
  },
  {
   "cell_type": "code",
   "execution_count": 25,
   "metadata": {},
   "outputs": [
    {
     "name": "stdout",
     "output_type": "stream",
     "text": [
      "             precision    recall  f1-score   support\n",
      "\n",
      "          0       0.96      0.97      0.97      3000\n",
      "          1       0.94      0.92      0.93      1500\n",
      "\n",
      "avg / total       0.95      0.95      0.95      4500\n",
      "\n",
      "[[2914   86]\n",
      " [ 123 1377]]\n"
     ]
    }
   ],
   "source": [
    "# Computing Precision/Recall\n",
    "\n",
    "Y_pred = clf['gboost'].predict(X_test)\n",
    "from sklearn.metrics import classification_report\n",
    "print(classification_report(Y_test,Y_pred))\n",
    "\n",
    "# Confusion Matrix\n",
    "from sklearn.metrics import confusion_matrix\n",
    "matrix = confusion_matrix(Y_test,Y_pred)\n",
    "print(matrix)\n",
    "    "
   ]
  },
  {
   "cell_type": "code",
   "execution_count": 26,
   "metadata": {},
   "outputs": [
    {
     "name": "stdout",
     "output_type": "stream",
     "text": [
      "10- fold Cross Validation Average Accuracy: 95.75 \n"
     ]
    }
   ],
   "source": [
    "# Cross validation\n",
    "\n",
    "from sklearn import model_selection \n",
    "from sklearn.model_selection import cross_val_score\n",
    "kfold = model_selection.KFold(n_splits=10,random_state=12)\n",
    "modelCV = clf['gboost']\n",
    "result = model_selection.cross_val_score(modelCV,X_train,Y_train.values.ravel(), cv=kfold, scoring='accuracy')\n",
    "print(\"10- fold Cross Validation Average Accuracy: %.2f \" %(result.mean()*100))"
   ]
  },
  {
   "cell_type": "code",
   "execution_count": 27,
   "metadata": {},
   "outputs": [
    {
     "data": {
      "image/png": "[encoded data removed]",
      "text/plain": [
       "<matplotlib.figure.Figure at 0x27f89831630>"
      ]
     },
     "metadata": {},
     "output_type": "display_data"
    }
   ],
   "source": [
    "# ROC Curve\n",
    "\n",
    "from sklearn.metrics import roc_auc_score\n",
    "from sklearn.metrics import roc_curve\n",
    "gboost_roc_auc_score = roc_auc_score(Y_test,Y_pred)\n",
    "fp_rate, tp_rate, threshold = roc_curve(Y_test,clf['gboost'].predict_proba(X_test)[:,1])\n",
    "plt.figure()\n",
    "plt.plot(fp_rate,tp_rate, label = 'GBoost Classifier Area: %0.2f' % gboost_roc_auc_score)\n",
    "plt.plot([0,1],[0,1],'r--')\n",
    "plt.xlim([0.0,1.0])\n",
    "plt.ylim([0.0,1.05])\n",
    "plt.xlabel(\"False Positive Rate \")\n",
    "plt.ylabel(\"True Positive Rate \")\n",
    "plt.title('ROC Curve')\n",
    "plt.legend(loc='best')\n",
    "plt.show()"
   ]
  },
  {
   "cell_type": "code",
   "execution_count": null,
   "metadata": {},
   "outputs": [],
   "source": []
  }
 ],
 "metadata": {
  "kernelspec": {
   "display_name": "Python 3",
   "language": "python",
   "name": "python3"
  },
  "language_info": {
   "codemirror_mode": {
    "name": "ipython",
    "version": 3
   },
   "file_extension": ".py",
   "mimetype": "text/x-python",
   "name": "python",
   "nbconvert_exporter": "python",
   "pygments_lexer": "ipython3",
   "version": "3.6.1"
  }
 },
 "nbformat": 4,
 "nbformat_minor": 2
}
